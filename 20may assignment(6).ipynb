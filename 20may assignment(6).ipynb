{
 "cells": [
  {
   "cell_type": "code",
   "execution_count": 1,
   "id": "401c28e7-f1e9-4fa7-b631-10a8204f8f3d",
   "metadata": {},
   "outputs": [
    {
     "data": {
      "text/plain": [
       "['False',\n",
       " 'None',\n",
       " 'True',\n",
       " 'and',\n",
       " 'as',\n",
       " 'assert',\n",
       " 'async',\n",
       " 'await',\n",
       " 'break',\n",
       " 'class',\n",
       " 'continue',\n",
       " 'def',\n",
       " 'del',\n",
       " 'elif',\n",
       " 'else',\n",
       " 'except',\n",
       " 'finally',\n",
       " 'for',\n",
       " 'from',\n",
       " 'global',\n",
       " 'if',\n",
       " 'import',\n",
       " 'in',\n",
       " 'is',\n",
       " 'lambda',\n",
       " 'nonlocal',\n",
       " 'not',\n",
       " 'or',\n",
       " 'pass',\n",
       " 'raise',\n",
       " 'return',\n",
       " 'try',\n",
       " 'while',\n",
       " 'with',\n",
       " 'yield']"
      ]
     },
     "execution_count": 1,
     "metadata": {},
     "output_type": "execute_result"
    }
   ],
   "source": [
    "#Q.1. What are keywords in python? Using the keyword library, print all the python keywords.\n",
    "#answer: keywords are reserved words that cannont be used as ordinary identifiers\n",
    "import keyword\n",
    "keyword.kwlist"
   ]
  },
  {
   "cell_type": "code",
   "execution_count": null,
   "id": "963c5903-a354-424a-ac22-f9f8d0dae6df",
   "metadata": {},
   "outputs": [],
   "source": [
    "#Q.2. What are the rules to create variables in python?\n",
    "\n",
    "#answer: A variable name must start with a letter or the underscore character\n",
    "# A variable  name cannot start with number\n",
    "# A variable  name can only contain alpha-numeric characters and underscore(A-Z,0-9,_)\n",
    "# Variable names are case sensitive."
   ]
  },
  {
   "cell_type": "code",
   "execution_count": null,
   "id": "751a1611-1264-4600-a327-24c070232c6a",
   "metadata": {},
   "outputs": [],
   "source": [
    "#3.What are the standards and conventions followed for the nomenclature of variables in python to improve code readability and maintainability?\n",
    "\n",
    "In Python names are used as identifiers of functions, classes, variables, etc…. \n",
    "\n",
    "Identifiers must start with a Letter (A-Z) or an underscore (\"_\"), followed by more letters or numbers.\n",
    "\n",
    "Python does not allow characters such as @, $, and % within identifier names.\n",
    "\n",
    "Python is case sensitive. So “selection” and “Selection” are two different identifiers. \n",
    "\n",
    "Normally class names will begin with capital letters and other identifiers will be all lower case. \n",
    "\n",
    "It is also common practice to start private identifiers with an underscore."
   ]
  },
  {
   "cell_type": "code",
   "execution_count": 2,
   "id": "4b6cd2eb-d53e-4afc-911e-b6bc73001c04",
   "metadata": {},
   "outputs": [
    {
     "ename": "SyntaxError",
     "evalue": "invalid syntax (3065629712.py, line 5)",
     "output_type": "error",
     "traceback": [
      "\u001b[0;36m  Cell \u001b[0;32mIn [2], line 5\u001b[0;36m\u001b[0m\n\u001b[0;31m    if = abc\u001b[0m\n\u001b[0m       ^\u001b[0m\n\u001b[0;31mSyntaxError\u001b[0m\u001b[0;31m:\u001b[0m invalid syntax\n"
     ]
    }
   ],
   "source": [
    "#Q.4. What will happen if a keyword is used as a variable name?\n",
    "\n",
    "#If a reserved keyword we can't use them as a variable names we'll get a syntax error\n",
    "# for example \n",
    "if = abc\n",
    "print(if)  #it give syntax error"
   ]
  },
  {
   "cell_type": "code",
   "execution_count": null,
   "id": "7920ea82-b487-4bed-8b17-e8e12ab4d5b5",
   "metadata": {},
   "outputs": [],
   "source": [
    "#Q.5. For what purpose def keyword is used?\n",
    "\n",
    "def keyword is used to create or define a function\n"
   ]
  },
  {
   "cell_type": "code",
   "execution_count": null,
   "id": "6687fab8-79df-41ad-a3f9-35af86e11ef7",
   "metadata": {},
   "outputs": [],
   "source": [
    "#Q.6. What is the operation of this special character ‘\\’?\n",
    "\n",
    "#In python strings, the backslash '\\' is a special character also called the escape character \n",
    "It is used in representing certain white space character"
   ]
  },
  {
   "cell_type": "code",
   "execution_count": 3,
   "id": "5d53a1cb-9c04-4add-bcf1-2fd8ea57add7",
   "metadata": {},
   "outputs": [
    {
     "name": "stdout",
     "output_type": "stream",
     "text": [
      "             *   \n",
      "\n",
      "          *    *    *   \n",
      "\n",
      "       *    *    *    *    *   \n",
      "\n",
      "    *    *    *    *    *    *    *   \n",
      "\n",
      " *    *    *    *    *    *    *    *    *   \n",
      "\n"
     ]
    }
   ],
   "source": [
    "#Q.9. Write a code to create the given structure using only for loop. \n",
    "\n",
    "for i in range(1,6):\n",
    "    for k in range(1,6-i):\n",
    "        print(\" \",end = \"  \")\n",
    "    for j in range(1,(2*i-1)+1):\n",
    "         print(\" * \",end = \"  \")\n",
    "    print(\"\\n\")\n"
   ]
  },
  {
   "cell_type": "code",
   "execution_count": null,
   "id": "bb0b6c10-3685-43ac-abf8-3c547e5b0673",
   "metadata": {},
   "outputs": [],
   "source": [
    ".7. Give an example of the following conditions:\n",
    "    \n",
    "#Homogeneous list\n",
    "#Homogeneous means that it only contains a single type of data.\n",
    "#example\n",
    "countries = [\"France\", \"Uruguay\", \"Germany\", \"Netherlands\", \"Ghana\"]\n",
    "\n",
    "#heterogeneous set\n",
    "\n",
    "#heterogeneous means that it contains a multi type of data\n",
    "\n",
    "l={10,20,30,\"India\",40}\n",
    "\n",
    "#Homogeneous tuple:\n",
    "\n",
    "#Homogeneous means that it only contain a single type of data\n",
    "\n",
    "countries = (\"France\", \"Uruguay\", \"Germany\", \"Netherlands\", \"Ghana\")\n",
    "\n"
   ]
  },
  {
   "cell_type": "code",
   "execution_count": 3,
   "id": "89a3ca74-487f-4eee-b619-fe047e38018e",
   "metadata": {},
   "outputs": [
    {
     "name": "stdout",
     "output_type": "stream",
     "text": [
      "[10, 20, 30, 'India', 40, 50]\n"
     ]
    }
   ],
   "source": [
    "#8. Explain the mutable and immutable data types with proper explanation & examples.\n",
    "\n",
    "#Mutable\n",
    "\n",
    "#An object that allows you to change its values without changing its identity is a mutable object. \n",
    "\n",
    "l=[10,20,30,\"India\",40]\n",
    "l.append(50)\n",
    "print(l)"
   ]
  },
  {
   "cell_type": "code",
   "execution_count": 5,
   "id": "12a9d6c0-8d99-4a03-8707-384add5a2602",
   "metadata": {},
   "outputs": [
    {
     "ename": "AttributeError",
     "evalue": "'tuple' object has no attribute 'remove'",
     "output_type": "error",
     "traceback": [
      "\u001b[0;31m---------------------------------------------------------------------------\u001b[0m",
      "\u001b[0;31mAttributeError\u001b[0m                            Traceback (most recent call last)",
      "Cell \u001b[0;32mIn [5], line 7\u001b[0m\n\u001b[1;32m      1\u001b[0m \u001b[38;5;66;03m#immutable\u001b[39;00m\n\u001b[1;32m      2\u001b[0m \n\u001b[1;32m      3\u001b[0m \u001b[38;5;66;03m#The changes that you can perform on a mutable object's value are known as mutations. \u001b[39;00m\n\u001b[1;32m      4\u001b[0m \u001b[38;5;66;03m#In contrast, an object that doesn't allow changes in its value is an immutable object\u001b[39;00m\n\u001b[1;32m      6\u001b[0m l\u001b[38;5;241m=\u001b[39m(\u001b[38;5;241m10\u001b[39m,\u001b[38;5;241m20\u001b[39m,\u001b[38;5;241m30\u001b[39m,\u001b[38;5;124m\"\u001b[39m\u001b[38;5;124mIndia\u001b[39m\u001b[38;5;124m\"\u001b[39m,\u001b[38;5;241m40\u001b[39m)\n\u001b[0;32m----> 7\u001b[0m \u001b[43ml\u001b[49m\u001b[38;5;241;43m.\u001b[39;49m\u001b[43mremove\u001b[49m(\u001b[38;5;241m50\u001b[39m)\n\u001b[1;32m      8\u001b[0m \u001b[38;5;28mprint\u001b[39m(l)\n",
      "\u001b[0;31mAttributeError\u001b[0m: 'tuple' object has no attribute 'remove'"
     ]
    }
   ],
   "source": [
    "#immutable\n",
    "\n",
    "#The changes that you can perform on a mutable object's value are known as mutations. \n",
    "#In contrast, an object that doesn't allow changes in its value is an immutable object\n",
    "\n",
    "l=(10,20,30,\"India\",40)\n",
    "l.remove(50)\n",
    "print(l)"
   ]
  },
  {
   "cell_type": "markdown",
   "id": "622e8033-3b8a-4d3f-9c58-9d401e3d04dd",
   "metadata": {
    "tags": []
   },
   "source": [
    "\n"
   ]
  },
  {
   "cell_type": "code",
   "execution_count": 2,
   "id": "26ca170c-dd74-4a67-9815-a83a0d038bd2",
   "metadata": {},
   "outputs": [
    {
     "name": "stdout",
     "output_type": "stream",
     "text": [
      "|||||||||\n",
      " |||||||\n",
      "  |||||\n",
      "   |||\n",
      "    |\n"
     ]
    }
   ],
   "source": [
    "#10. Write a code to create the given structure using while loop.\n",
    "n=9\n",
    "i=0\n",
    "while n>0:\n",
    "    print(\" \"*i+\"|\"*n)\n",
    "    i+=1\n",
    "    n-=2"
   ]
  },
  {
   "cell_type": "code",
   "execution_count": null,
   "id": "535d4d6b-ccd7-4933-bf53-fb4f0e3cdd63",
   "metadata": {},
   "outputs": [],
   "source": []
  },
  {
   "cell_type": "code",
   "execution_count": null,
   "id": "976db979-1bd9-4ee9-aca6-cc1ee3bdffc3",
   "metadata": {},
   "outputs": [],
   "source": []
  },
  {
   "cell_type": "code",
   "execution_count": null,
   "id": "926e30ef-ded7-422c-9578-19deeaeefeca",
   "metadata": {},
   "outputs": [],
   "source": []
  },
  {
   "cell_type": "code",
   "execution_count": null,
   "id": "286869fb-70d9-49de-a97a-2fb36faf1ffa",
   "metadata": {},
   "outputs": [],
   "source": []
  },
  {
   "cell_type": "code",
   "execution_count": null,
   "id": "70c85c64-75dd-4a74-9450-676c656db4fa",
   "metadata": {},
   "outputs": [],
   "source": []
  },
  {
   "cell_type": "code",
   "execution_count": null,
   "id": "4c2b04ae-fe58-4802-a50f-626d4482ec30",
   "metadata": {},
   "outputs": [],
   "source": []
  },
  {
   "cell_type": "code",
   "execution_count": null,
   "id": "46ebe9aa-d48d-4bec-9cbd-1a355a66b854",
   "metadata": {},
   "outputs": [],
   "source": []
  },
  {
   "cell_type": "code",
   "execution_count": null,
   "id": "11bf49ca-d81a-47da-acd9-e97ef44def38",
   "metadata": {},
   "outputs": [],
   "source": []
  },
  {
   "cell_type": "code",
   "execution_count": null,
   "id": "0048f597-8996-4293-93c0-7056b544fa7f",
   "metadata": {},
   "outputs": [],
   "source": []
  }
 ],
 "metadata": {
  "kernelspec": {
   "display_name": "Python 3 (ipykernel)",
   "language": "python",
   "name": "python3"
  },
  "language_info": {
   "codemirror_mode": {
    "name": "ipython",
    "version": 3
   },
   "file_extension": ".py",
   "mimetype": "text/x-python",
   "name": "python",
   "nbconvert_exporter": "python",
   "pygments_lexer": "ipython3",
   "version": "3.10.6"
  }
 },
 "nbformat": 4,
 "nbformat_minor": 5
}
